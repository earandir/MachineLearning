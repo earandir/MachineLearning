{
  "nbformat": 4,
  "nbformat_minor": 0,
  "metadata": {
    "colab": {
      "name": "Machine Learning CheckPoint",
      "provenance": [],
      "collapsed_sections": []
    },
    "kernelspec": {
      "name": "python3",
      "display_name": "Python 3"
    },
    "language_info": {
      "name": "python"
    }
  },
  "cells": [
    {
      "cell_type": "code",
      "metadata": {
        "id": "F82sgtnUjf5U"
      },
      "source": [
        "import numpy as np\n",
        "import pandas as pd\n",
        "import matplotlib.pyplot as plt\n",
        "import seaborn as sns\n",
        "sns.set(style = \"whitegrid\")\n",
        "%matplotlib inline\n",
        "import warnings\n",
        "warnings.filterwarnings('ignore')\n",
        "\n",
        "from sklearn.model_selection import train_test_split\n",
        "from sklearn.preprocessing import PowerTransformer\n",
        "\n",
        "from sklearn.model_selection import RandomizedSearchCV"
      ],
      "execution_count": null,
      "outputs": []
    },
    {
      "cell_type": "code",
      "metadata": {
        "id": "vc4a4l7Tjutv"
      },
      "source": [
        "df = pd.read_csv(\"TechJobTime.csv\")"
      ],
      "execution_count": null,
      "outputs": []
    },
    {
      "cell_type": "code",
      "metadata": {
        "colab": {
          "base_uri": "https://localhost:8080/",
          "height": 235
        },
        "id": "a7xiEOsEj58f",
        "outputId": "7440b09d-d1ff-4e28-e662-1611d3c892a2"
      },
      "source": [
        "df.describe().T"
      ],
      "execution_count": null,
      "outputs": [
        {
          "output_type": "execute_result",
          "data": {
            "text/html": [
              "<div>\n",
              "<style scoped>\n",
              "    .dataframe tbody tr th:only-of-type {\n",
              "        vertical-align: middle;\n",
              "    }\n",
              "\n",
              "    .dataframe tbody tr th {\n",
              "        vertical-align: top;\n",
              "    }\n",
              "\n",
              "    .dataframe thead th {\n",
              "        text-align: right;\n",
              "    }\n",
              "</style>\n",
              "<table border=\"1\" class=\"dataframe\">\n",
              "  <thead>\n",
              "    <tr style=\"text-align: right;\">\n",
              "      <th></th>\n",
              "      <th>count</th>\n",
              "      <th>mean</th>\n",
              "      <th>std</th>\n",
              "      <th>min</th>\n",
              "      <th>25%</th>\n",
              "      <th>50%</th>\n",
              "      <th>75%</th>\n",
              "      <th>max</th>\n",
              "    </tr>\n",
              "  </thead>\n",
              "  <tbody>\n",
              "    <tr>\n",
              "      <th>ModuloMSP</th>\n",
              "      <td>16818.0</td>\n",
              "      <td>6.761030</td>\n",
              "      <td>5.381794</td>\n",
              "      <td>1.0</td>\n",
              "      <td>4.0</td>\n",
              "      <td>5.0</td>\n",
              "      <td>9.0</td>\n",
              "      <td>26.0</td>\n",
              "    </tr>\n",
              "    <tr>\n",
              "      <th>Site</th>\n",
              "      <td>16818.0</td>\n",
              "      <td>231.733262</td>\n",
              "      <td>140.652570</td>\n",
              "      <td>3.0</td>\n",
              "      <td>8.0</td>\n",
              "      <td>301.0</td>\n",
              "      <td>301.0</td>\n",
              "      <td>601.0</td>\n",
              "    </tr>\n",
              "    <tr>\n",
              "      <th>ModeID</th>\n",
              "      <td>16818.0</td>\n",
              "      <td>62.835236</td>\n",
              "      <td>178.309272</td>\n",
              "      <td>1.0</td>\n",
              "      <td>2.0</td>\n",
              "      <td>3.0</td>\n",
              "      <td>3.0</td>\n",
              "      <td>601.0</td>\n",
              "    </tr>\n",
              "    <tr>\n",
              "      <th>CategoryID</th>\n",
              "      <td>16818.0</td>\n",
              "      <td>255.404923</td>\n",
              "      <td>152.873253</td>\n",
              "      <td>1.0</td>\n",
              "      <td>301.0</td>\n",
              "      <td>301.0</td>\n",
              "      <td>301.0</td>\n",
              "      <td>901.0</td>\n",
              "    </tr>\n",
              "    <tr>\n",
              "      <th>TechID</th>\n",
              "      <td>16818.0</td>\n",
              "      <td>729.122607</td>\n",
              "      <td>2644.488200</td>\n",
              "      <td>17.0</td>\n",
              "      <td>105.0</td>\n",
              "      <td>694.0</td>\n",
              "      <td>694.0</td>\n",
              "      <td>35101.0</td>\n",
              "    </tr>\n",
              "    <tr>\n",
              "      <th>ChargeMinutes</th>\n",
              "      <td>16818.0</td>\n",
              "      <td>2475.839933</td>\n",
              "      <td>35386.155256</td>\n",
              "      <td>0.0</td>\n",
              "      <td>360.0</td>\n",
              "      <td>780.0</td>\n",
              "      <td>1800.0</td>\n",
              "      <td>2853120.0</td>\n",
              "    </tr>\n",
              "  </tbody>\n",
              "</table>\n",
              "</div>"
            ],
            "text/plain": [
              "                 count         mean           std  ...    50%     75%        max\n",
              "ModuloMSP      16818.0     6.761030      5.381794  ...    5.0     9.0       26.0\n",
              "Site           16818.0   231.733262    140.652570  ...  301.0   301.0      601.0\n",
              "ModeID         16818.0    62.835236    178.309272  ...    3.0     3.0      601.0\n",
              "CategoryID     16818.0   255.404923    152.873253  ...  301.0   301.0      901.0\n",
              "TechID         16818.0   729.122607   2644.488200  ...  694.0   694.0    35101.0\n",
              "ChargeMinutes  16818.0  2475.839933  35386.155256  ...  780.0  1800.0  2853120.0\n",
              "\n",
              "[6 rows x 8 columns]"
            ]
          },
          "metadata": {},
          "execution_count": 3
        }
      ]
    },
    {
      "cell_type": "code",
      "metadata": {
        "colab": {
          "base_uri": "https://localhost:8080/"
        },
        "id": "IP7GNsM_kXbJ",
        "outputId": "94f5f25b-8b20-4429-e5b3-795648f8f85e"
      },
      "source": [
        "print(df.head())\n",
        "print(df.shape)"
      ],
      "execution_count": null,
      "outputs": [
        {
          "output_type": "stream",
          "name": "stdout",
          "text": [
            "   ModuloMSP  Site  ModeID  CategoryID  TechID  ChargeMinutes\n",
            "0          1   301       3         301     105              0\n",
            "1          2   301       3         301     694           1380\n",
            "2          1   301       3         301     694            300\n",
            "3          3   301       3         301     105            180\n",
            "4          2     3       3         301     105            480\n",
            "(16818, 6)\n"
          ]
        }
      ]
    },
    {
      "cell_type": "code",
      "metadata": {
        "colab": {
          "base_uri": "https://localhost:8080/"
        },
        "id": "3OW3iGSdkdxT",
        "outputId": "b5bf75a9-4291-431e-b412-0566755bd33d"
      },
      "source": [
        "print(df.info())"
      ],
      "execution_count": null,
      "outputs": [
        {
          "output_type": "stream",
          "name": "stdout",
          "text": [
            "<class 'pandas.core.frame.DataFrame'>\n",
            "RangeIndex: 16818 entries, 0 to 16817\n",
            "Data columns (total 6 columns):\n",
            " #   Column         Non-Null Count  Dtype\n",
            "---  ------         --------------  -----\n",
            " 0   ModuloMSP      16818 non-null  int64\n",
            " 1   Site           16818 non-null  int64\n",
            " 2   ModeID         16818 non-null  int64\n",
            " 3   CategoryID     16818 non-null  int64\n",
            " 4   TechID         16818 non-null  int64\n",
            " 5   ChargeMinutes  16818 non-null  int64\n",
            "dtypes: int64(6)\n",
            "memory usage: 788.5 KB\n",
            "None\n"
          ]
        }
      ]
    },
    {
      "cell_type": "code",
      "metadata": {
        "colab": {
          "base_uri": "https://localhost:8080/"
        },
        "id": "ndzxxFMxmXEC",
        "outputId": "2590e3cb-3991-4416-bccd-020351e91de4"
      },
      "source": [
        "print(df.isnull().any())"
      ],
      "execution_count": null,
      "outputs": [
        {
          "output_type": "stream",
          "name": "stdout",
          "text": [
            "ModuloMSP        False\n",
            "Site             False\n",
            "ModeID           False\n",
            "CategoryID       False\n",
            "TechID           False\n",
            "ChargeMinutes    False\n",
            "dtype: bool\n"
          ]
        }
      ]
    },
    {
      "cell_type": "code",
      "metadata": {
        "colab": {
          "base_uri": "https://localhost:8080/"
        },
        "id": "mRcJiq3uoJKQ",
        "outputId": "6c497dad-b467-42c0-b697-c34409c2a6bf"
      },
      "source": [
        "X = df[[\"ModuloMSP\", \"Site\", \"ModeID\", \"CategoryID\"]]\n",
        "print(X.shape)\n",
        "print(X.describe().T.round(2))"
      ],
      "execution_count": null,
      "outputs": [
        {
          "output_type": "stream",
          "name": "stdout",
          "text": [
            "(16818, 4)\n",
            "              count    mean     std  min    25%    50%    75%    max\n",
            "ModuloMSP   16818.0    6.76    5.38  1.0    4.0    5.0    9.0   26.0\n",
            "Site        16818.0  231.73  140.65  3.0    8.0  301.0  301.0  601.0\n",
            "ModeID      16818.0   62.84  178.31  1.0    2.0    3.0    3.0  601.0\n",
            "CategoryID  16818.0  255.40  152.87  1.0  301.0  301.0  301.0  901.0\n"
          ]
        }
      ]
    },
    {
      "cell_type": "code",
      "metadata": {
        "colab": {
          "base_uri": "https://localhost:8080/",
          "height": 255
        },
        "id": "VE9U9ZLjV_VQ",
        "outputId": "acac748e-4427-4038-f783-42d2995ad5e7"
      },
      "source": [
        "fig, ax = plt.subplots(ncols=4, nrows=1, figsize=(20,5))\n",
        "index = 0\n",
        "ax = ax.flatten()\n",
        "\n",
        "for col, value in X.items():\n",
        "    sns.distplot(value, color='g', ax=ax[index])\n",
        "    index += 1\n",
        "plt.tight_layout(pad=0.5, w_pad=0.7, h_pad=5.0)\n",
        "plt.show()"
      ],
      "execution_count": null,
      "outputs": [
        {
          "output_type": "display_data",
          "data": {
            "image/png": "[encoded data removed]",
            "text/plain": [
              "<Figure size 1440x360 with 4 Axes>"
            ]
          },
          "metadata": {
            "needs_background": "light"
          }
        }
      ]
    },
    {
      "cell_type": "code",
      "metadata": {
        "colab": {
          "base_uri": "https://localhost:8080/"
        },
        "id": "UaoY2cmjo1gq",
        "outputId": "c1097a8a-17fa-418e-d086-1c1f2dba22dc"
      },
      "source": [
        "y = df[\"TechID\"]\n",
        "print(y.shape)"
      ],
      "execution_count": null,
      "outputs": [
        {
          "output_type": "stream",
          "name": "stdout",
          "text": [
            "(16818,)\n"
          ]
        }
      ]
    },
    {
      "cell_type": "code",
      "metadata": {
        "colab": {
          "base_uri": "https://localhost:8080/",
          "height": 610
        },
        "id": "oRof-cHrV_VS",
        "outputId": "23879311-1aaa-4520-fc32-2206980475e2"
      },
      "source": [
        "corr_spearman = df.corr(method = 'spearman')\n",
        "fig, ax = plt.subplots(figsize=(10, 10))\n",
        "sns.heatmap(corr_spearman, annot = True, fmt=\".3f\").set_title(\n",
        "    \"Spearman's correlation coefficient\")\n",
        "plt.show()"
      ],
      "execution_count": null,
      "outputs": [
        {
          "output_type": "display_data",
          "data": {
            "image/png": "[encoded data removed]",
            "text/plain": [
              "<Figure size 720x720 with 2 Axes>"
            ]
          },
          "metadata": {
            "needs_background": "light"
          }
        }
      ]
    },
    {
      "cell_type": "code",
      "metadata": {
        "colab": {
          "base_uri": "https://localhost:8080/"
        },
        "id": "8qb2Z-ZipwOU",
        "outputId": "5499d88b-64c6-43dd-edc1-3e46310932c9"
      },
      "source": [
        "X_train, X_test, y_train, y_test = train_test_split(X, y, test_size = 0.30, random_state = 22)\n",
        "\n",
        "print(\"X_train shape: \"+str(X_train.shape[0]), \"y_train shape: \"+str(y_train.shape[0]), sep = \"\\n\")\n",
        "print(\"X_test shape:\"+str(X_test.shape[0]), \"y_test shape:\"+str(y_test.shape[0]), sep = \"\\n\")"
      ],
      "execution_count": null,
      "outputs": [
        {
          "output_type": "stream",
          "name": "stdout",
          "text": [
            "X_train shape: 11772\n",
            "y_train shape: 11772\n",
            "X_test shape:5046\n",
            "y_test shape:5046\n"
          ]
        }
      ]
    },
    {
      "cell_type": "markdown",
      "metadata": {
        "id": "8Y9WVDbeV_VT"
      },
      "source": [
        "### Clúster por vecinos más cercanos"
      ]
    },
    {
      "cell_type": "code",
      "metadata": {
        "id": "BgspsJcj08KJ"
      },
      "source": [
        "# Hiperparámetros\n",
        "n_neighbors = [2, 4, 6, 8, 10, 12, 14, 16, 18, 20]\n",
        "weights = ['uniform', 'distance']\n",
        "metric = ['euclidean', 'manhattan', 'minkowski']\n",
        "\n",
        "param_grid = {\"n_neighbors\": n_neighbors, \"weights\": weights, \"metric\": metric}"
      ],
      "execution_count": null,
      "outputs": []
    },
    {
      "cell_type": "code",
      "metadata": {
        "id": "jKjLjDRYV_VT"
      },
      "source": [
        "from sklearn.neighbors import KNeighborsClassifier\n",
        "\n",
        "KNN = KNeighborsClassifier() #Genera el modelo\n",
        "KNN.fit(X_train, y_train)   #Entrena el modelo\n",
        "KNN_cv = RandomizedSearchCV(KNN, param_grid, cv = 5)\n",
        "KNN_cv.fit(X_train, y_train)\n",
        "y_pred_knn = KNN.predict(X_test)   #Genera la predicción"
      ],
      "execution_count": null,
      "outputs": []
    },
    {
      "cell_type": "code",
      "metadata": {
        "colab": {
          "base_uri": "https://localhost:8080/"
        },
        "id": "XOQk0X38V_VT",
        "outputId": "8a4a7070-1b01-46c1-9c10-b2fd1a588c5a"
      },
      "source": [
        "print(\"Precisión del modelo en el subconjunto de entrenamiento: {}\".format(KNN.score(X_train, y_train).round(2)))\n",
        "print(\"Precisión del modelo en el subconjunto de prueba: {}\".format(KNN.score(X_test, y_test).round(2)))"
      ],
      "execution_count": null,
      "outputs": [
        {
          "output_type": "stream",
          "name": "stdout",
          "text": [
            "Precisión del modelo en el subconjunto de entrenamiento: 0.66\n",
            "Precisión del modelo en el subconjunto de prueba: 0.63\n"
          ]
        }
      ]
    },
    {
      "cell_type": "code",
      "metadata": {
        "colab": {
          "base_uri": "https://localhost:8080/"
        },
        "id": "t2ZNFYXPV_VW",
        "outputId": "145aabe4-495f-4ba7-d747-ce834cf0b93d"
      },
      "source": [
        "# Hiperparámetros que generan el mejor modelo\n",
        "print(\"K vecinos más cercanos con hiperparámetros ajustados: {}\".format(KNN_cv.best_params_))"
      ],
      "execution_count": null,
      "outputs": [
        {
          "output_type": "stream",
          "name": "stdout",
          "text": [
            "K vecinos más cercanos con hiperparámetros ajustados: {'weights': 'distance', 'n_neighbors': 18, 'metric': 'minkowski'}\n"
          ]
        }
      ]
    },
    {
      "cell_type": "code",
      "metadata": {
        "colab": {
          "base_uri": "https://localhost:8080/"
        },
        "id": "O-PxtepGV_VW",
        "outputId": "38edf824-a5f4-4ba1-f254-bd8123310da1"
      },
      "source": [
        "# Evaluación del modelo\n",
        "print(\"Precisión del modelo en el subconjunto de entrenamiento: {}\".format(KNN_cv.best_score_.round(2)))\n",
        "print(\"Precisión del modelo en el subconjunto de prueba: {}\".format(KNN_cv.score(X_test, y_test).round(2)))"
      ],
      "execution_count": null,
      "outputs": [
        {
          "output_type": "stream",
          "name": "stdout",
          "text": [
            "Precisión del modelo en el subconjunto de entrenamiento: 0.67\n",
            "Precisión del modelo en el subconjunto de prueba: 0.67\n"
          ]
        }
      ]
    },
    {
      "cell_type": "markdown",
      "metadata": {
        "id": "TkWeJK4FV_VT"
      },
      "source": [
        "### Clasificador ingenuo de Bayes"
      ]
    },
    {
      "cell_type": "code",
      "metadata": {
        "id": "vePsEILiV_VT"
      },
      "source": [
        "from sklearn.naive_bayes import GaussianNB\n",
        "\n",
        "NaiveBayes = GaussianNB()\n",
        "NaiveBayes.fit(X_train, y_train) #Entrena el modelo\n",
        "y_pred_nb = NaiveBayes.predict(X_test) #Genera la predicción"
      ],
      "execution_count": null,
      "outputs": []
    },
    {
      "cell_type": "code",
      "metadata": {
        "colab": {
          "base_uri": "https://localhost:8080/"
        },
        "id": "fu9AZ6WeV_VU",
        "outputId": "f53d0243-d4e0-4969-abec-fba1ec62cda8"
      },
      "source": [
        "print(\"Precisión del modelo en el subconjunto de entrenamiento: {}\".format(NaiveBayes.score(X_train, y_train).round(2)))\n",
        "print(\"Precisión del modelo en el subconjunto de prueba: {}\".format(NaiveBayes.score(X_test, y_test).round(2)))"
      ],
      "execution_count": null,
      "outputs": [
        {
          "output_type": "stream",
          "name": "stdout",
          "text": [
            "Precisión del modelo en el subconjunto de entrenamiento: 0.55\n",
            "Precisión del modelo en el subconjunto de prueba: 0.54\n"
          ]
        }
      ]
    },
    {
      "cell_type": "markdown",
      "metadata": {
        "id": "iOG9ko1sV_VU"
      },
      "source": [
        "### Regresión Logística"
      ]
    },
    {
      "cell_type": "code",
      "metadata": {
        "id": "eTj-sqAFV_VU"
      },
      "source": [
        "from sklearn.linear_model import LogisticRegression\n",
        "\n",
        "LogisticRegression = LogisticRegression()\n",
        "LogisticRegression.fit(X_train, y_train) #Entrena el modelo\n",
        "y_pred_lr = LogisticRegression.predict(X_test) #Genera la predicción"
      ],
      "execution_count": null,
      "outputs": []
    },
    {
      "cell_type": "code",
      "metadata": {
        "colab": {
          "base_uri": "https://localhost:8080/"
        },
        "id": "eiqw1YMpV_VU",
        "outputId": "9f2bd8c7-bc95-47c1-f8f9-6f2690842a75"
      },
      "source": [
        "print(\"Precisión del modelo en el subconjunto de entrenamiento: {}\".format(LogisticRegression.score(X_train, y_train).round(2)))\n",
        "print(\"Precisión del modelo en el subconjunto de prueba: {}\".format(LogisticRegression.score(X_test, y_test).round(2)))"
      ],
      "execution_count": null,
      "outputs": [
        {
          "output_type": "stream",
          "name": "stdout",
          "text": [
            "Precisión del modelo en el subconjunto de entrenamiento: 0.62\n",
            "Precisión del modelo en el subconjunto de prueba: 0.62\n"
          ]
        }
      ]
    },
    {
      "cell_type": "markdown",
      "metadata": {
        "id": "8eC6uneAV_VU"
      },
      "source": [
        "### Maquina de Soporte Vectorial"
      ]
    },
    {
      "cell_type": "code",
      "metadata": {
        "id": "X8v0oOXSV_VU"
      },
      "source": [
        "from sklearn.svm import SVC\n",
        "\n",
        "SVC = SVC()\n",
        "SVC.fit(X_train, y_train) #Entrena el modelo\n",
        "y_pred_svc = SVC.predict(X_test) #Genera la predición"
      ],
      "execution_count": null,
      "outputs": []
    },
    {
      "cell_type": "code",
      "metadata": {
        "colab": {
          "base_uri": "https://localhost:8080/"
        },
        "id": "yWdKIKPCV_VU",
        "outputId": "d7bebd62-eab6-4ccc-c27e-c8c0c6e2e7b1"
      },
      "source": [
        "print(\"Precisión del modelo en el subconjunto de entrenamiento: {}\".format(SVC.score(X_train, y_train).round(2)))\n",
        "print(\"Precisión del modelo en el subconjunto de prueba: {}\".format(SVC.score(X_test, y_test).round(2)))"
      ],
      "execution_count": null,
      "outputs": [
        {
          "output_type": "stream",
          "name": "stdout",
          "text": [
            "Precisión del modelo en el subconjunto de entrenamiento: 0.62\n",
            "Precisión del modelo en el subconjunto de prueba: 0.62\n"
          ]
        }
      ]
    },
    {
      "cell_type": "markdown",
      "metadata": {
        "id": "J0l6CZUtV_VU"
      },
      "source": [
        "### Bosque aleatorio"
      ]
    },
    {
      "cell_type": "code",
      "metadata": {
        "id": "HupquL8XV_VU"
      },
      "source": [
        "from sklearn.ensemble import RandomForestClassifier\n",
        "\n",
        "RFC = RandomForestClassifier()\n",
        "RFC.fit(X_train, y_train) #Entrena el modelo\n",
        "y_pred_rfc = RFC.predict(X_test) #Genera la predicción\n"
      ],
      "execution_count": null,
      "outputs": []
    },
    {
      "cell_type": "code",
      "metadata": {
        "colab": {
          "base_uri": "https://localhost:8080/"
        },
        "id": "vCdHKl7JV_VV",
        "outputId": "5b32fd4c-6e4b-4952-d44f-532ec097736a"
      },
      "source": [
        "print(\"Precisión del modelo en el subconjunto de entrenamiento: {}\".format(RFC.score(X_train, y_train).round(2)))\n",
        "print(\"Precisión del modelo en el subconjunto de prueba: {}\".format(RFC.score(X_test, y_test).round(2)))"
      ],
      "execution_count": null,
      "outputs": [
        {
          "output_type": "stream",
          "name": "stdout",
          "text": [
            "Precisión del modelo en el subconjunto de entrenamiento: 0.7\n",
            "Precisión del modelo en el subconjunto de prueba: 0.67\n"
          ]
        }
      ]
    },
    {
      "cell_type": "code",
      "metadata": {
        "id": "6yl_noYc1woM"
      },
      "source": [
        "# Hiperparámetros\n",
        "n_estimators = [int(n) for n in np.linspace(100, 1000, 5)]\n",
        "max_depth = [int(d) for d in np.linspace(10, 50, 2)]\n",
        "max_features = [\"sqrt\", \"log2\"]\n",
        "criterion = [\"gini\", \"entropy\"]\n",
        "\n",
        "param_grid = {\"n_estimators\": n_estimators,\n",
        "         \"max_depth\": max_depth,\n",
        "        \"max_features\": max_features,\n",
        "        \"criterion\": criterion}"
      ],
      "execution_count": null,
      "outputs": []
    },
    {
      "cell_type": "code",
      "metadata": {
        "colab": {
          "base_uri": "https://localhost:8080/"
        },
        "id": "2afMxr7x2a_f",
        "outputId": "4ee8a270-772c-4316-bdb7-1d7939fda81e"
      },
      "source": [
        "RFC_cv = RandomizedSearchCV(RFC, param_grid, cv = 5)\n",
        "RFC_cv.fit(X_train, y_train)"
      ],
      "execution_count": null,
      "outputs": [
        {
          "output_type": "execute_result",
          "data": {
            "text/plain": [
              "RandomizedSearchCV(cv=5, error_score=nan,\n",
              "                   estimator=RandomForestClassifier(bootstrap=True,\n",
              "                                                    ccp_alpha=0.0,\n",
              "                                                    class_weight=None,\n",
              "                                                    criterion='gini',\n",
              "                                                    max_depth=None,\n",
              "                                                    max_features='auto',\n",
              "                                                    max_leaf_nodes=None,\n",
              "                                                    max_samples=None,\n",
              "                                                    min_impurity_decrease=0.0,\n",
              "                                                    min_impurity_split=None,\n",
              "                                                    min_samples_leaf=1,\n",
              "                                                    min_samples_split=2,\n",
              "                                                    min_weight_fraction_leaf=0.0,\n",
              "                                                    n_estimators=100,\n",
              "                                                    n_jobs=None,\n",
              "                                                    oob_score=False,\n",
              "                                                    random_state=None,\n",
              "                                                    verbose=0,\n",
              "                                                    warm_start=False),\n",
              "                   iid='deprecated', n_iter=10, n_jobs=None,\n",
              "                   param_distributions={'criterion': ['gini', 'entropy'],\n",
              "                                        'max_depth': [10, 50],\n",
              "                                        'max_features': ['sqrt', 'log2'],\n",
              "                                        'n_estimators': [100, 325, 550, 775,\n",
              "                                                         1000]},\n",
              "                   pre_dispatch='2*n_jobs', random_state=None, refit=True,\n",
              "                   return_train_score=False, scoring=None, verbose=0)"
            ]
          },
          "metadata": {},
          "execution_count": 38
        }
      ]
    },
    {
      "cell_type": "code",
      "metadata": {
        "id": "sLTHs3t0V_VX",
        "colab": {
          "base_uri": "https://localhost:8080/"
        },
        "outputId": "a7daad54-0a8f-405e-fd6c-82c68dca9153"
      },
      "source": [
        "# Hiperparámetros que generan el mejor modelo\n",
        "print(\"Bosque aleatorio con hiperparámetros ajustados: {}\".format(RFC_cv.best_params_))"
      ],
      "execution_count": null,
      "outputs": [
        {
          "output_type": "stream",
          "name": "stdout",
          "text": [
            "Bosque aleatorio con hiperparámetros ajustados: {'n_estimators': 100, 'max_features': 'sqrt', 'max_depth': 10, 'criterion': 'entropy'}\n"
          ]
        }
      ]
    },
    {
      "cell_type": "code",
      "metadata": {
        "id": "0ah32Ip6V_VX",
        "colab": {
          "base_uri": "https://localhost:8080/"
        },
        "outputId": "e4e6a1e3-b42b-4995-aa93-b9269bf317d9"
      },
      "source": [
        "# Evaluación del modelo\n",
        "print(\"Precisión del modelo en el subconjunto de entrenamiento: {}\".format(RFC_cv.best_score_.round(2)))\n",
        "print(\"Precisión del modelo en el subconjunto de prueba: {}\".format(RFC_cv.score(X_test, y_test).round(2)))"
      ],
      "execution_count": null,
      "outputs": [
        {
          "output_type": "stream",
          "name": "stdout",
          "text": [
            "Precisión del modelo en el subconjunto de entrenamiento: 0.68\n",
            "Precisión del modelo en el subconjunto de prueba: 0.67\n"
          ]
        }
      ]
    },
    {
      "cell_type": "markdown",
      "metadata": {
        "id": "V5YhCS0zV_VV"
      },
      "source": [
        "### Red Neuronal Artificial"
      ]
    },
    {
      "cell_type": "code",
      "metadata": {
        "id": "ghE5CxSZV_VV"
      },
      "source": [
        "from sklearn.neural_network import MLPClassifier\n",
        "\n",
        "ANN = MLPClassifier()\n",
        "ANN.fit(X_train, y_train)\n",
        "y_pred_ann = ANN.predict(X_test)"
      ],
      "execution_count": null,
      "outputs": []
    },
    {
      "cell_type": "code",
      "metadata": {
        "colab": {
          "base_uri": "https://localhost:8080/"
        },
        "id": "0uCo73udV_VV",
        "outputId": "fc048749-c4ed-454c-c517-27f7d436c0b7"
      },
      "source": [
        "print(\"Precisión del modelo en el subconjunto de entrenamiento: {}\".format(ANN.score(X_train, y_train).round(2)))\n",
        "print(\"Precisión del modelo en el subconjunto de prueba: {}\".format(ANN.score(X_test, y_test).round(2)))"
      ],
      "execution_count": null,
      "outputs": [
        {
          "output_type": "stream",
          "name": "stdout",
          "text": [
            "Precisión del modelo en el subconjunto de entrenamiento: 0.61\n",
            "Precisión del modelo en el subconjunto de prueba: 0.61\n"
          ]
        }
      ]
    },
    {
      "cell_type": "code",
      "metadata": {
        "id": "IsZFvSaLV_VY"
      },
      "source": [
        "# Hiperparámetros\n",
        "param_grid = {\n",
        "    'hidden_layer_sizes': [(10,30,10), (20,), (3,2,1)],\n",
        "    'activation': ['logistic', 'tanh', 'relu'],\n",
        "    'alpha': [0.001, 0.01, 0.1]\n",
        "}\n",
        "\n",
        "# Instancia del modelo\n",
        "from sklearn.neural_network import MLPClassifier\n",
        "ANN = MLPClassifier()"
      ],
      "execution_count": null,
      "outputs": []
    },
    {
      "cell_type": "code",
      "metadata": {
        "id": "Ocah9n99V_VY",
        "colab": {
          "base_uri": "https://localhost:8080/"
        },
        "outputId": "dd845d65-b1f9-446f-bf7e-d72ffe91510b"
      },
      "source": [
        "# Ajusta de hiperparámetros y entrenamiento\n",
        "ANN_cv = RandomizedSearchCV(ANN, param_grid, cv = 5)\n",
        "ANN_cv.fit(X_train, y_train)"
      ],
      "execution_count": null,
      "outputs": [
        {
          "output_type": "execute_result",
          "data": {
            "text/plain": [
              "RandomizedSearchCV(cv=5, error_score=nan,\n",
              "                   estimator=MLPClassifier(activation='relu', alpha=0.0001,\n",
              "                                           batch_size='auto', beta_1=0.9,\n",
              "                                           beta_2=0.999, early_stopping=False,\n",
              "                                           epsilon=1e-08,\n",
              "                                           hidden_layer_sizes=(100,),\n",
              "                                           learning_rate='constant',\n",
              "                                           learning_rate_init=0.001,\n",
              "                                           max_fun=15000, max_iter=200,\n",
              "                                           momentum=0.9, n_iter_no_change=10,\n",
              "                                           nesterovs_momentum=True, power_t=0.5,\n",
              "                                           random...\n",
              "                                           solver='adam', tol=0.0001,\n",
              "                                           validation_fraction=0.1,\n",
              "                                           verbose=False, warm_start=False),\n",
              "                   iid='deprecated', n_iter=10, n_jobs=None,\n",
              "                   param_distributions={'activation': ['logistic', 'tanh',\n",
              "                                                       'relu'],\n",
              "                                        'alpha': [0.001, 0.01, 0.1],\n",
              "                                        'hidden_layer_sizes': [(10, 30, 10),\n",
              "                                                               (20,),\n",
              "                                                               (3, 2, 1)]},\n",
              "                   pre_dispatch='2*n_jobs', random_state=None, refit=True,\n",
              "                   return_train_score=False, scoring=None, verbose=0)"
            ]
          },
          "metadata": {},
          "execution_count": 44
        }
      ]
    },
    {
      "cell_type": "code",
      "metadata": {
        "id": "oOOj-DcYV_VY",
        "colab": {
          "base_uri": "https://localhost:8080/"
        },
        "outputId": "349ee7ff-572f-4cbd-b07b-402b7e99f609"
      },
      "source": [
        "# Hiperparámetros que generan el mejor modelo\n",
        "print(\"Bosque aleatorio con hiperparámetros ajustados: {}\".format(ANN_cv.best_params_))"
      ],
      "execution_count": null,
      "outputs": [
        {
          "output_type": "stream",
          "name": "stdout",
          "text": [
            "Bosque aleatorio con hiperparámetros ajustados: {'hidden_layer_sizes': (20,), 'alpha': 0.01, 'activation': 'logistic'}\n"
          ]
        }
      ]
    },
    {
      "cell_type": "code",
      "metadata": {
        "id": "xPYOBVc6V_VY",
        "colab": {
          "base_uri": "https://localhost:8080/"
        },
        "outputId": "f26cdc6a-a7ec-4e7d-838f-0f62c570ed86"
      },
      "source": [
        "# Evaluación del modelo\n",
        "print(\"Precisión del modelo en el subconjunto de entrenamiento: {}\".format(ANN_cv.best_score_.round(2)))\n",
        "print(\"Precisión del modelo en el subconjunto de prueba: {}\".format(ANN_cv.score(X_test, y_test).round(2)))"
      ],
      "execution_count": null,
      "outputs": [
        {
          "output_type": "stream",
          "name": "stdout",
          "text": [
            "Precisión del modelo en el subconjunto de entrenamiento: 0.62\n",
            "Precisión del modelo en el subconjunto de prueba: 0.64\n"
          ]
        }
      ]
    }
  ]
}